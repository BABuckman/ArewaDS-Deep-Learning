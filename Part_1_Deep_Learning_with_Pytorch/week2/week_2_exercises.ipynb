{
  "cells": [
    {
      "cell_type": "markdown",
      "metadata": {
        "id": "1G3NNX6Whaln"
      },
      "source": [
        "<a href=\"https://colab.research.google.com/github/arewadataScience/ArewaDS-Deep-Learning/blob/main/Part_1_Deep_Learning_with_Pytorch/week2/week_2_exercises.ipynb\" target=\"_parent\"><img src=\"https://colab.research.google.com/assets/colab-badge.svg\" alt=\"Open In Colab\"/></a>"
      ]
    },
    {
      "cell_type": "markdown",
      "metadata": {
        "id": "xGn6aQnrhalr"
      },
      "source": [
        "## Arewa DataScience Academy\n",
        "### Deep Learning Cohort 1.0\n",
        "\n",
        "### WEEK 2 Exercises"
      ]
    },
    {
      "cell_type": "markdown",
      "metadata": {
        "id": "dCjclKv-hals"
      },
      "source": [
        "### Exercises:\n",
        "Please, see week 2 exercises from [**Learn PyTorch for Deep Learning**: 01. Pytorch Workflows](https://www.learnpytorch.io/01_pytorch_workflow/#exercises)"
      ]
    },
    {
      "cell_type": "markdown",
      "metadata": {
        "id": "PwIv8Mkzhalt"
      },
      "source": [
        "### Additional Exercise\n",
        "[Click to view PDF 📄](ArewaDS_Deep_Learning_Advanced_Assignment_Week2.pdf)"
      ]
    },
    {
      "cell_type": "markdown",
      "source": [
        "# Question 1. Loading your data...\n",
        "\n",
        "(a) Load the Synchronous Machine Learning Dataset as Numpy array.\n",
        "\n",
        "(b) Convert the Numpy array to PyTorch tensor, original data tensor."
      ],
      "metadata": {
        "id": "IzlTxWKCj1ez"
      }
    },
    {
      "cell_type": "code",
      "execution_count": 3,
      "metadata": {
        "vscode": {
          "languageId": "plaintext"
        },
        "id": "FO9uyt9chalu",
        "outputId": "0617aa6b-5942-41ff-c0a5-eebda742fb3c",
        "colab": {
          "base_uri": "https://localhost:8080/"
        }
      },
      "outputs": [
        {
          "output_type": "stream",
          "name": "stdout",
          "text": [
            "--2025-01-31 14:13:27--  https://archive.ics.uci.edu/static/public/607/synchronous+machine+data+set.zip\n",
            "Resolving archive.ics.uci.edu (archive.ics.uci.edu)... 128.195.10.252\n",
            "Connecting to archive.ics.uci.edu (archive.ics.uci.edu)|128.195.10.252|:443... connected.\n",
            "HTTP request sent, awaiting response... 200 OK\n",
            "Length: unspecified\n",
            "Saving to: ‘data.zip’\n",
            "\n",
            "data.zip                [ <=>                ]  14.37K  --.-KB/s    in 0.04s   \n",
            "\n",
            "2025-01-31 14:13:28 (371 KB/s) - ‘data.zip’ saved [14713]\n",
            "\n"
          ]
        }
      ],
      "source": [
        "# import libraries\n",
        "import zipfile\n",
        "import pandas as pd\n",
        "\n",
        "# download dataset in colab env\n",
        "!wget https://archive.ics.uci.edu/static/public/607/synchronous+machine+data+set.zip -O data.zip\n",
        "\n",
        "# unzip data\n",
        "with zipfile.ZipFile(\"data.zip\", 'r') as my_zip:\n",
        "  my_zip.extractall()\n",
        "\n",
        "# read csv and parse to pandas\n",
        "dataset_name = \"synchronous machine.csv\"\n",
        "data = pd.read_csv(dataset_name, delimiter=\";\", thousands=',')\n",
        "\n",
        "# get numpy data\n",
        "numpy_data = data.values"
      ]
    },
    {
      "cell_type": "code",
      "source": [
        "# import torch\n",
        "import torch\n",
        "from torch import nn\n",
        "import matplotlib.pyplot as plt\n",
        "\n",
        "# Assuming 'numpy_data' is already defined from the previous code\n",
        "# numpy_data = data.values\n",
        "\n",
        "# Convert the NumPy array to a PyTorch tensor\n",
        "tensor_data = torch.from_numpy(numpy_data)\n",
        "\n",
        "# Print the tensor to verify\n",
        "tensor_data\n"
      ],
      "metadata": {
        "id": "ahqyvjdanDW_",
        "outputId": "d7dd191d-e2e8-45b3-a603-7f7ee7966908",
        "colab": {
          "base_uri": "https://localhost:8080/"
        }
      },
      "execution_count": 4,
      "outputs": [
        {
          "output_type": "execute_result",
          "data": {
            "text/plain": [
              "tensor([[   3,   66,   34,  383, 1563],\n",
              "        [   3,   68,   32,  372, 1552],\n",
              "        [   3,    7,    3,   36,  154],\n",
              "        ...,\n",
              "        [   6,   95,    5,   16,  134],\n",
              "        [   6,   97,    3,   16,  134],\n",
              "        [   6,   99,    1,   16,  134]])"
            ]
          },
          "metadata": {},
          "execution_count": 4
        }
      ]
    },
    {
      "cell_type": "markdown",
      "source": [
        "# Question 2. Art of ”Tensor Manipulation”\n",
        "\n",
        "(a) Print the size of the dataset.\n",
        "\n",
        "(b) Create a tensor, my_pi_tensor of same size as original data tensor containing values of 3.142 at every point and placed on your GPU device. Print the first 13 rows. Print tensor device location.\n",
        "Print tensor datatype.\n",
        "\n",
        "(c) Print the fifth-root of the sum of all values in my pi tensor.\n",
        "\n",
        "(d) Create a new tensor, my data tensor using the first and last 100 rows from the original data tensor. Print size of my data tensor [Expect a size of 200 rows].\n",
        "\n",
        "(e) Create two 1-D tensors, features and target from my data tensor. The feature is dIf (Changing of excitation current of synchronous machine) I) column and target is If (Excitation current of synchronous machine).\n",
        "\n",
        "(f) Split your data into training and test data of ratio 75:25 respectively"
      ],
      "metadata": {
        "id": "W_op3Md_n64l"
      }
    },
    {
      "cell_type": "code",
      "source": [
        "# Print the size of the dataset\n",
        "tensor_data.shape\n",
        "\n",
        "# Create a tensor\n",
        "my_pi_tensor = torch.ones(size=(557, 5))*3.142\n",
        "\n",
        "# placed on GPU device\n",
        "my_pi_tensor = torch.tensor(my_pi_tensor, device=\"cuda\")"
      ],
      "metadata": {
        "id": "FtlR-7mFoeXO",
        "outputId": "989769cf-5bbe-47d9-e887-07f7b5da6394",
        "colab": {
          "base_uri": "https://localhost:8080/"
        }
      },
      "execution_count": 5,
      "outputs": [
        {
          "output_type": "stream",
          "name": "stderr",
          "text": [
            "<ipython-input-5-3a550a1f34b9>:8: UserWarning: To copy construct from a tensor, it is recommended to use sourceTensor.clone().detach() or sourceTensor.clone().detach().requires_grad_(True), rather than torch.tensor(sourceTensor).\n",
            "  my_pi_tensor = torch.tensor(my_pi_tensor, device=\"cuda\")\n"
          ]
        },
        {
          "output_type": "execute_result",
          "data": {
            "text/plain": [
              "<function Tensor.get_device>"
            ]
          },
          "metadata": {},
          "execution_count": 5
        }
      ]
    },
    {
      "cell_type": "code",
      "source": [
        "# Print the first 13 rows\n",
        "my_pi_tensor[:13]"
      ],
      "metadata": {
        "id": "6rA2mAQQtuqu"
      },
      "execution_count": null,
      "outputs": []
    },
    {
      "cell_type": "code",
      "source": [
        "# print tensor device, device location,\n",
        "my_pi_tensor.get_device"
      ],
      "metadata": {
        "id": "k2Y4PVCttpLQ"
      },
      "execution_count": null,
      "outputs": []
    },
    {
      "cell_type": "markdown",
      "metadata": {
        "id": "w5CgySZrhalv"
      },
      "source": [
        "SUBMIT ASSIGNMENT HERE: [CLICK ME ▶️](https://forms.gle/876vi4aNoFf4A2mU7)"
      ]
    }
  ],
  "metadata": {
    "language_info": {
      "name": "python"
    },
    "colab": {
      "provenance": [],
      "gpuType": "T4"
    },
    "kernelspec": {
      "name": "python3",
      "display_name": "Python 3"
    },
    "accelerator": "GPU"
  },
  "nbformat": 4,
  "nbformat_minor": 0
}