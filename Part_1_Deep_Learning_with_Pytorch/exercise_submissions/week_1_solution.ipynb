{
  "cells": [
    {
      "cell_type": "markdown",
      "metadata": {
        "id": "view-in-github",
        "colab_type": "text"
      },
      "source": [
        "<a href=\"https://colab.research.google.com/github/BABuckman/ArewaDS-Deep-Learning/blob/main/Part_1_Deep_Learning_with_Pytorch/exercise_submissions/week_1_solution.ipynb\" target=\"_parent\"><img src=\"https://colab.research.google.com/assets/colab-badge.svg\" alt=\"Open In Colab\"/></a>"
      ]
    },
    {
      "cell_type": "markdown",
      "metadata": {
        "id": "JIv2eilEqwaE"
      },
      "source": [
        "# Arewa Data Science Academy"
      ]
    },
    {
      "cell_type": "markdown",
      "metadata": {
        "id": "hiIR86ATqwaH"
      },
      "source": [
        "## Deep Learning Cohort"
      ]
    },
    {
      "cell_type": "markdown",
      "metadata": {
        "id": "jmVErQnIqwaI"
      },
      "source": [
        "### Name: Bernard Buckman"
      ]
    },
    {
      "cell_type": "markdown",
      "metadata": {
        "id": "qmxdpuxYqwaI"
      },
      "source": [
        "#### Title: Week 1 Solution"
      ]
    },
    {
      "cell_type": "markdown",
      "metadata": {
        "id": "RSRt2rQtqwaJ"
      },
      "source": [
        "#### Exercise Solution"
      ]
    },
    {
      "cell_type": "markdown",
      "metadata": {
        "id": "jQIb6839qwaL"
      },
      "source": [
        "1. Documentation reading"
      ]
    },
    {
      "cell_type": "markdown",
      "metadata": {
        "id": "jr42xKu9qwaL"
      },
      "source": [
        "A big part of deep learning (and learning to code in general) is getting familiar with the documentation of a certain framework you're using. We'll be using the PyTorch documentation a lot throughout the rest of this course. So I'd recommend spending 10-minutes reading the following (it's okay if you don't get some things for now, the focus is not yet full understanding, it's awareness):\n",
        "\n",
        "* The documentation on torch.Tensor.\n",
        "* The documentation on torch.cuda."
      ]
    },
    {
      "cell_type": "markdown",
      "metadata": {
        "id": "tA0CED99qwaM"
      },
      "source": [
        "2. Create a random tensor with shape (7, 7)"
      ]
    },
    {
      "cell_type": "code",
      "execution_count": 1,
      "metadata": {
        "vscode": {
          "languageId": "plaintext"
        },
        "colab": {
          "base_uri": "https://localhost:8080/"
        },
        "id": "OhhB8LPNqwaN",
        "outputId": "a85425d3-bf0d-481d-ecbb-ec68ef7c7a23"
      },
      "outputs": [
        {
          "output_type": "execute_result",
          "data": {
            "text/plain": [
              "tensor([[0.7935, 0.0633, 0.4756, 0.0434, 0.4009, 0.3181, 0.1175],\n",
              "        [0.1546, 0.1488, 0.3825, 0.9128, 0.6855, 0.3615, 0.2277],\n",
              "        [0.4301, 0.4161, 0.5598, 0.9308, 0.9714, 0.7685, 0.4448],\n",
              "        [0.3054, 0.6910, 0.9102, 0.0352, 0.8874, 0.4477, 0.0034],\n",
              "        [0.0732, 0.1114, 0.6000, 0.3783, 0.0912, 0.0920, 0.0989],\n",
              "        [0.0954, 0.0700, 0.7377, 0.0712, 0.8864, 0.1421, 0.4712],\n",
              "        [0.6107, 0.7193, 0.3025, 0.4580, 0.5300, 0.3278, 0.8377]])"
            ]
          },
          "metadata": {},
          "execution_count": 1
        }
      ],
      "source": [
        "# Import torch\n",
        "import torch\n",
        "\n",
        "# Create random number\n",
        "random_tensor1 = torch.rand(size=(7, 7))\n",
        "random_tensor1"
      ]
    },
    {
      "cell_type": "markdown",
      "metadata": {
        "id": "IVqHjUH0qwaP"
      },
      "source": [
        "3. Perform a matrix multiplication on the tensor from 2 with another random tensor with shape (1, 7) (hint: you may have to transpose the second tensor)."
      ]
    },
    {
      "cell_type": "code",
      "execution_count": 2,
      "metadata": {
        "vscode": {
          "languageId": "plaintext"
        },
        "colab": {
          "base_uri": "https://localhost:8080/"
        },
        "id": "9k9_qjYWqwaP",
        "outputId": "d0890344-57ce-4425-de55-255a4f2a21de"
      },
      "outputs": [
        {
          "output_type": "stream",
          "name": "stdout",
          "text": [
            "Shape of tensor A -> torch.Size([7, 7])\n",
            "Shape of tensor B -> torch.Size([1, 7])\n",
            "Shape of new tensor -> torch.Size([7, 1])\n"
          ]
        },
        {
          "output_type": "execute_result",
          "data": {
            "text/plain": [
              "tensor([[1.2935],\n",
              "        [1.7975],\n",
              "        [2.6955],\n",
              "        [1.8050],\n",
              "        [0.8595],\n",
              "        [1.0715],\n",
              "        [1.9440]])"
            ]
          },
          "metadata": {},
          "execution_count": 2
        }
      ],
      "source": [
        "# Create another random tensor\n",
        "random_tensor2 = torch.rand(size=(1, 7))\n",
        "\n",
        "# Perform matrix multiplication\n",
        "print(f'Shape of tensor A -> {random_tensor1.shape}')\n",
        "print(f'Shape of tensor B -> {random_tensor2.shape}')\n",
        "ans = torch.matmul(random_tensor1, random_tensor2.T)\n",
        "print(f'Shape of new tensor -> {ans.shape}')\n",
        "ans"
      ]
    },
    {
      "cell_type": "markdown",
      "metadata": {
        "id": "Lrz7sKmAqwaQ"
      },
      "source": [
        "4. Set the random seed to 0 and do 2 & 3 over again.\n",
        "\n",
        "The output should be:\n",
        "\n",
        "(tensor([[1.8542],\n",
        "         [1.9611],\n",
        "         [2.2884],\n",
        "         [3.0481],\n",
        "         [1.7067],\n",
        "         [2.5290],\n",
        "         [1.7989]]), torch.Size([7, 1]))"
      ]
    },
    {
      "cell_type": "code",
      "execution_count": 3,
      "metadata": {
        "vscode": {
          "languageId": "plaintext"
        },
        "colab": {
          "base_uri": "https://localhost:8080/"
        },
        "id": "9CKtrohbqwaR",
        "outputId": "6b4e8403-3123-4d85-ee35-4404ea75b2a8"
      },
      "outputs": [
        {
          "output_type": "execute_result",
          "data": {
            "text/plain": [
              "tensor([[1.8542],\n",
              "        [1.9611],\n",
              "        [2.2884],\n",
              "        [3.0481],\n",
              "        [1.7067],\n",
              "        [2.5290],\n",
              "        [1.7989]])"
            ]
          },
          "metadata": {},
          "execution_count": 3
        }
      ],
      "source": [
        "# Set manual seed\n",
        "torch.manual_seed(0)\n",
        "\n",
        "# Create two random tensors\n",
        "rand1 = torch.rand(size=(7,7))\n",
        "rand2 = torch.rand(size=(1, 7))\n",
        "\n",
        "# Matrix multiply tensors\n",
        "result = torch.mm(rand1, rand2.T)\n",
        "result\n"
      ]
    },
    {
      "cell_type": "markdown",
      "metadata": {
        "id": "ZQdc6R22qwaS"
      },
      "source": [
        "5. Speaking of random seeds, we saw how to set it with torch.manual_seed() but is there a GPU equivalent? (hint: you'll need to look into the documentation for torch.cuda for this one)\n",
        "\n",
        "* If there is, set the GPU random seed to 1234."
      ]
    },
    {
      "cell_type": "code",
      "execution_count": 4,
      "metadata": {
        "id": "YkWo_3BIqwaT"
      },
      "outputs": [],
      "source": [
        "# Set random seed on the GPU\n",
        "torch.cuda.seed()\n",
        "\n",
        "# Count number of devices\n",
        "# torch.cuda.device_count()"
      ]
    },
    {
      "cell_type": "markdown",
      "metadata": {
        "id": "R2pUXJ9jqwaW"
      },
      "source": [
        "6. Create two random tensors of shape (2, 3) and send them both to the GPU (you'll need access to a GPU for this). Set torch.manual_seed(1234) when creating the tensors (this doesn't have to be the GPU random seed). The output should be something like:\n",
        "\n",
        "Device: cuda\n",
        "(tensor([[0.0290, 0.4019, 0.2598],\n",
        "         [0.3666, 0.0583, 0.7006]], device='cuda:0'),\n",
        " tensor([[0.0518, 0.4681, 0.6738],\n",
        "         [0.3315, 0.7837, 0.5631]], device='cuda:0'))"
      ]
    },
    {
      "cell_type": "code",
      "execution_count": 5,
      "metadata": {
        "colab": {
          "base_uri": "https://localhost:8080/"
        },
        "id": "h8GkB1OQqwaX",
        "outputId": "07a63b47-1466-4612-e661-78bbbad1182e"
      },
      "outputs": [
        {
          "output_type": "stream",
          "name": "stdout",
          "text": [
            "tensor([[0.0290, 0.4019, 0.2598],\n",
            "        [0.3666, 0.0583, 0.7006]], device='cuda:0')\n",
            "tensor([[0.0518, 0.4681, 0.6738],\n",
            "        [0.3315, 0.7837, 0.5631]], device='cuda:0')\n"
          ]
        }
      ],
      "source": [
        "# Set random seed\n",
        "torch.manual_seed(1234)\n",
        "\n",
        "# Check for access to GPU\n",
        "torch.cuda.is_available()\n",
        "\n",
        "# Create two random tensors on GPU\n",
        "rand1 = torch.rand(size=(2,3))\n",
        "rand2 = torch.rand(size=(2,3))\n",
        "\n",
        "# Set device type\n",
        "device = \"cuda\" if torch.cuda.is_available() else \"cpu\"\n",
        "\n",
        "rand1_to_gpu = rand1.to(device)\n",
        "rand2_to_gpu = rand2.to(device)\n",
        "print(rand1_to_gpu)\n",
        "print(rand2_to_gpu)"
      ]
    },
    {
      "cell_type": "markdown",
      "metadata": {
        "id": "q3TaPYRkqwaZ"
      },
      "source": [
        "7. Perform a matrix multiplication on the tensors you created in 6 (again, you may have to adjust the shapes of one of the tensors).\n",
        "\n",
        "The output should look like:\n",
        "\n",
        "(tensor([[0.3647, 0.4709],\n",
        "         [0.5184, 0.5617]], device='cuda:0'), torch.Size([2, 2]))"
      ]
    },
    {
      "cell_type": "code",
      "execution_count": 6,
      "metadata": {
        "colab": {
          "base_uri": "https://localhost:8080/"
        },
        "id": "xZrNssZHqwaZ",
        "outputId": "3286d2f1-2b11-4bb8-f738-c71cab70e9fa"
      },
      "outputs": [
        {
          "output_type": "execute_result",
          "data": {
            "text/plain": [
              "tensor([[0.3647, 0.4709],\n",
              "        [0.5184, 0.5617]], device='cuda:0')"
            ]
          },
          "metadata": {},
          "execution_count": 6
        }
      ],
      "source": [
        "# Perform matmul on tensor_A and tensor_B\n",
        "answer = torch.mm(rand1_to_gpu, rand2_to_gpu.T)\n",
        "answer"
      ]
    },
    {
      "cell_type": "markdown",
      "metadata": {
        "id": "LloznnwUqwaa"
      },
      "source": [
        "8. Find the maximum and minimum values of the output of 7."
      ]
    },
    {
      "cell_type": "code",
      "execution_count": 7,
      "metadata": {
        "colab": {
          "base_uri": "https://localhost:8080/"
        },
        "id": "ySXoAIT0qwab",
        "outputId": "045538e2-b40e-4911-ba49-00dd9fa738be"
      },
      "outputs": [
        {
          "output_type": "stream",
          "name": "stdout",
          "text": [
            "Maximum value is 0.5617256760597229\n",
            "Minimum value is 0.3647301495075226\n"
          ]
        }
      ],
      "source": [
        "# Find max\n",
        "print(f'Maximum value is {answer.max()}')\n",
        "\n",
        "# Find min\n",
        "print(f'Minimum value is {answer.min()}')"
      ]
    },
    {
      "cell_type": "markdown",
      "metadata": {
        "id": "8qx_MZRHqwab"
      },
      "source": [
        "9. Find the maximum and minimum index values of the output of 7."
      ]
    },
    {
      "cell_type": "code",
      "execution_count": 8,
      "metadata": {
        "colab": {
          "base_uri": "https://localhost:8080/"
        },
        "id": "EX_mZQiyqwac",
        "outputId": "46e84eb4-414f-4466-8ff6-150b48486346"
      },
      "outputs": [
        {
          "output_type": "stream",
          "name": "stdout",
          "text": [
            "Index where the max value occurs is 3\n",
            "Index where the min value occurs is 0\n"
          ]
        }
      ],
      "source": [
        "# Find arg max\n",
        "print(f'Index where the max value occurs is {answer.argmax()}')\n",
        "\n",
        "# Find arg min\n",
        "print(f'Index where the min value occurs is {answer.argmin()}')"
      ]
    },
    {
      "cell_type": "markdown",
      "metadata": {
        "id": "r_ePr4Dkqwae"
      },
      "source": [
        "10. Make a random tensor with shape (1, 1, 1, 10) and then create a new tensor with all the 1 dimensions removed to be left with a tensor of shape (10). Set the seed to 7 when you create it and print out the first tensor and it's shape as well as the second tensor and it's shape.\n",
        "\n",
        "The output should look like:\n",
        "\n",
        "tensor([[[[0.5349, 0.1988, 0.6592, 0.6569, 0.2328, 0.4251, 0.2071, 0.6297,\n",
        "           0.3653, 0.8513]]]]) torch.Size([1, 1, 1, 10])\n",
        "tensor([0.5349, 0.1988, 0.6592, 0.6569, 0.2328, 0.4251, 0.2071, 0.6297, 0.3653,\n",
        "        0.8513]) torch.Size([10])\n",
        "        "
      ]
    },
    {
      "cell_type": "code",
      "execution_count": 9,
      "metadata": {
        "id": "Q98-h7WGqwae",
        "outputId": "0715f60c-4eb9-4885-f2f5-86329be000e0",
        "colab": {
          "base_uri": "https://localhost:8080/"
        }
      },
      "outputs": [
        {
          "output_type": "stream",
          "name": "stdout",
          "text": [
            "tensor([[[[0.5349, 0.1988, 0.6592, 0.6569, 0.2328, 0.4251, 0.2071, 0.6297,\n",
            "           0.3653, 0.8513]]]]) torch.Size([1, 1, 1, 10])\n",
            "tensor([0.5349, 0.1988, 0.6592, 0.6569, 0.2328, 0.4251, 0.2071, 0.6297, 0.3653,\n",
            "        0.8513]) torch.Size([10])\n"
          ]
        }
      ],
      "source": [
        "# Set seed\n",
        "torch.manual_seed(7)\n",
        "\n",
        "# Create random tensor\n",
        "tensor_a = torch.rand(1, 1, 1, 10)\n",
        "\n",
        "# Remove single dimensions\n",
        "tensor_b = tensor_a.squeeze()\n",
        "\n",
        "# Print out tensors and their shapes\n",
        "print(tensor_a, tensor_a.shape)  # Print first tensor and shape\n",
        "print(tensor_b, tensor_b.shape) # Print second tensor and shape"
      ]
    }
  ],
  "metadata": {
    "language_info": {
      "name": "python"
    },
    "colab": {
      "provenance": [],
      "gpuType": "T4",
      "include_colab_link": true
    },
    "accelerator": "GPU",
    "kernelspec": {
      "name": "python3",
      "display_name": "Python 3"
    }
  },
  "nbformat": 4,
  "nbformat_minor": 0
}