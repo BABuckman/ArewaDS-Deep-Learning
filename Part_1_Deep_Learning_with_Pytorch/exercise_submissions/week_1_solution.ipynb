{
  "cells": [
    {
      "cell_type": "markdown",
      "metadata": {
        "id": "JIv2eilEqwaE"
      },
      "source": [
        "# Arewa Data Science Academy"
      ]
    },
    {
      "cell_type": "markdown",
      "metadata": {
        "id": "hiIR86ATqwaH"
      },
      "source": [
        "## Deep Learning Cohort"
      ]
    },
    {
      "cell_type": "markdown",
      "metadata": {
        "id": "jmVErQnIqwaI"
      },
      "source": [
        "### Name: Bernard Buckman"
      ]
    },
    {
      "cell_type": "markdown",
      "metadata": {
        "id": "qmxdpuxYqwaI"
      },
      "source": [
        "#### Title: Week 1 Solution"
      ]
    },
    {
      "cell_type": "markdown",
      "metadata": {
        "id": "RSRt2rQtqwaJ"
      },
      "source": [
        "#### Exercise Solution"
      ]
    },
    {
      "cell_type": "markdown",
      "metadata": {
        "id": "jQIb6839qwaL"
      },
      "source": [
        "1. Documentation reading"
      ]
    },
    {
      "cell_type": "markdown",
      "metadata": {
        "id": "jr42xKu9qwaL"
      },
      "source": [
        "A big part of deep learning (and learning to code in general) is getting familiar with the documentation of a certain framework you're using. We'll be using the PyTorch documentation a lot throughout the rest of this course. So I'd recommend spending 10-minutes reading the following (it's okay if you don't get some things for now, the focus is not yet full understanding, it's awareness):\n",
        "\n",
        "* The documentation on torch.Tensor.\n",
        "* The documentation on torch.cuda."
      ]
    },
    {
      "cell_type": "markdown",
      "metadata": {
        "id": "tA0CED99qwaM"
      },
      "source": [
        "2. Create a random tensor with shape (7, 7)"
      ]
    },
    {
      "cell_type": "code",
      "execution_count": 15,
      "metadata": {
        "vscode": {
          "languageId": "plaintext"
        },
        "colab": {
          "base_uri": "https://localhost:8080/"
        },
        "id": "OhhB8LPNqwaN",
        "outputId": "f569cce2-2e97-47ca-ea30-2b2ab7c2656a"
      },
      "outputs": [
        {
          "output_type": "execute_result",
          "data": {
            "text/plain": [
              "tensor([[0.2866, 0.6969, 0.6094, 0.9159, 0.2113, 0.6026, 0.2451],\n",
              "        [0.5987, 0.6389, 0.4717, 0.7172, 0.8488, 0.3116, 0.4492],\n",
              "        [0.7666, 0.9559, 0.6096, 0.9445, 0.8096, 0.9320, 0.3337],\n",
              "        [0.1386, 0.2095, 0.5133, 0.0942, 0.5921, 0.6533, 0.4434],\n",
              "        [0.0360, 0.3801, 0.0184, 0.9007, 0.9712, 0.9944, 0.1582],\n",
              "        [0.0088, 0.3903, 0.2252, 0.1161, 0.2298, 0.6769, 0.3364],\n",
              "        [0.1955, 0.5684, 0.3501, 0.3967, 0.8923, 0.3389, 0.3232]])"
            ]
          },
          "metadata": {},
          "execution_count": 15
        }
      ],
      "source": [
        "# Import torch\n",
        "import torch\n",
        "\n",
        "# Create random number\n",
        "random_tensor1 = torch.rand(size=(7, 7))\n",
        "random_tensor1"
      ]
    },
    {
      "cell_type": "markdown",
      "metadata": {
        "id": "IVqHjUH0qwaP"
      },
      "source": [
        "3. Perform a matrix multiplication on the tensor from 2 with another random tensor with shape (1, 7) (hint: you may have to transpose the second tensor)."
      ]
    },
    {
      "cell_type": "code",
      "execution_count": 18,
      "metadata": {
        "vscode": {
          "languageId": "plaintext"
        },
        "colab": {
          "base_uri": "https://localhost:8080/"
        },
        "id": "9k9_qjYWqwaP",
        "outputId": "7e2d4435-f0b8-4ef9-eae9-5ded3d22bf06"
      },
      "outputs": [
        {
          "output_type": "stream",
          "name": "stdout",
          "text": [
            "Shape of tensor A -> torch.Size([7, 7])\n",
            "Shape of tensor B -> torch.Size([1, 7])\n",
            "Shape of new tensor -> torch.Size([7, 1])\n"
          ]
        },
        {
          "output_type": "execute_result",
          "data": {
            "text/plain": [
              "tensor([[1.9936],\n",
              "        [2.4545],\n",
              "        [3.1403],\n",
              "        [1.7749],\n",
              "        [2.1245],\n",
              "        [1.1724],\n",
              "        [1.9287]])"
            ]
          },
          "metadata": {},
          "execution_count": 18
        }
      ],
      "source": [
        "# Create another random tensor\n",
        "random_tensor2 = torch.rand(size=(1, 7))\n",
        "\n",
        "# Perform matrix multiplication\n",
        "print(f'Shape of tensor A -> {random_tensor1.shape}')\n",
        "print(f'Shape of tensor B -> {random_tensor2.shape}')\n",
        "ans = torch.matmul(random_tensor1, random_tensor2.T)\n",
        "print(f'Shape of new tensor -> {ans.shape}')\n",
        "ans"
      ]
    },
    {
      "cell_type": "markdown",
      "metadata": {
        "id": "Lrz7sKmAqwaQ"
      },
      "source": [
        "4. Set the random seed to 0 and do 2 & 3 over again.\n",
        "\n",
        "The output should be:\n",
        "\n",
        "(tensor([[1.8542],\n",
        "         [1.9611],\n",
        "         [2.2884],\n",
        "         [3.0481],\n",
        "         [1.7067],\n",
        "         [2.5290],\n",
        "         [1.7989]]), torch.Size([7, 1]))"
      ]
    },
    {
      "cell_type": "code",
      "execution_count": 20,
      "metadata": {
        "vscode": {
          "languageId": "plaintext"
        },
        "colab": {
          "base_uri": "https://localhost:8080/"
        },
        "id": "9CKtrohbqwaR",
        "outputId": "864d2d52-6270-44e8-bc15-453953208505"
      },
      "outputs": [
        {
          "output_type": "execute_result",
          "data": {
            "text/plain": [
              "tensor([[1.8542],\n",
              "        [1.9611],\n",
              "        [2.2884],\n",
              "        [3.0481],\n",
              "        [1.7067],\n",
              "        [2.5290],\n",
              "        [1.7989]])"
            ]
          },
          "metadata": {},
          "execution_count": 20
        }
      ],
      "source": [
        "# Set manual seed\n",
        "torch.manual_seed(0)\n",
        "\n",
        "# Create two random tensors\n",
        "rand1 = torch.rand(size=(7,7))\n",
        "rand2 = torch.rand(size=(1, 7))\n",
        "\n",
        "# Matrix multiply tensors\n",
        "result = torch.mm(rand1, rand2.T)\n",
        "result\n"
      ]
    },
    {
      "cell_type": "markdown",
      "metadata": {
        "id": "ZQdc6R22qwaS"
      },
      "source": [
        "5. Speaking of random seeds, we saw how to set it with torch.manual_seed() but is there a GPU equivalent? (hint: you'll need to look into the documentation for torch.cuda for this one)\n",
        "\n",
        "* If there is, set the GPU random seed to 1234."
      ]
    },
    {
      "cell_type": "code",
      "execution_count": 25,
      "metadata": {
        "id": "YkWo_3BIqwaT"
      },
      "outputs": [],
      "source": [
        "# Set random seed on the GPU\n",
        "torch.cuda.seed()\n",
        "\n",
        "# Count number of devices\n",
        "# torch.cuda.device_count()"
      ]
    },
    {
      "cell_type": "markdown",
      "metadata": {
        "id": "R2pUXJ9jqwaW"
      },
      "source": [
        "6. Create two random tensors of shape (2, 3) and send them both to the GPU (you'll need access to a GPU for this). Set torch.manual_seed(1234) when creating the tensors (this doesn't have to be the GPU random seed). The output should be something like:\n",
        "\n",
        "Device: cuda\n",
        "(tensor([[0.0290, 0.4019, 0.2598],\n",
        "         [0.3666, 0.0583, 0.7006]], device='cuda:0'),\n",
        " tensor([[0.0518, 0.4681, 0.6738],\n",
        "         [0.3315, 0.7837, 0.5631]], device='cuda:0'))"
      ]
    },
    {
      "cell_type": "code",
      "execution_count": 27,
      "metadata": {
        "colab": {
          "base_uri": "https://localhost:8080/"
        },
        "id": "h8GkB1OQqwaX",
        "outputId": "07290ed1-352d-41f8-cf58-70813b94c972"
      },
      "outputs": [
        {
          "output_type": "stream",
          "name": "stdout",
          "text": [
            "tensor([[0.0290, 0.4019, 0.2598],\n",
            "        [0.3666, 0.0583, 0.7006]], device='cuda:0')\n",
            "tensor([[0.0518, 0.4681, 0.6738],\n",
            "        [0.3315, 0.7837, 0.5631]], device='cuda:0')\n"
          ]
        }
      ],
      "source": [
        "# Set random seed\n",
        "torch.manual_seed(1234)\n",
        "\n",
        "# Check for access to GPU\n",
        "torch.cuda.is_available()\n",
        "\n",
        "# Create two random tensors on GPU\n",
        "rand1 = torch.rand(size=(2,3))\n",
        "rand2 = torch.rand(size=(2,3))\n",
        "\n",
        "# Set device type\n",
        "device = \"cuda\" if torch.cuda.is_available() else \"cpu\"\n",
        "\n",
        "rand1_to_gpu = rand1.to(device)\n",
        "rand2_to_gpu = rand2.to(device)\n",
        "print(rand1_to_gpu)\n",
        "print(rand2_to_gpu)"
      ]
    },
    {
      "cell_type": "markdown",
      "metadata": {
        "id": "q3TaPYRkqwaZ"
      },
      "source": [
        "7. Perform a matrix multiplication on the tensors you created in 6 (again, you may have to adjust the shapes of one of the tensors).\n",
        "\n",
        "The output should look like:\n",
        "\n",
        "(tensor([[0.3647, 0.4709],\n",
        "         [0.5184, 0.5617]], device='cuda:0'), torch.Size([2, 2]))"
      ]
    },
    {
      "cell_type": "code",
      "execution_count": 28,
      "metadata": {
        "colab": {
          "base_uri": "https://localhost:8080/"
        },
        "id": "xZrNssZHqwaZ",
        "outputId": "24209c57-fd5e-435c-8b3c-4fbba2c06921"
      },
      "outputs": [
        {
          "output_type": "execute_result",
          "data": {
            "text/plain": [
              "tensor([[0.3647, 0.4709],\n",
              "        [0.5184, 0.5617]], device='cuda:0')"
            ]
          },
          "metadata": {},
          "execution_count": 28
        }
      ],
      "source": [
        "# Perform matmul on tensor_A and tensor_B\n",
        "answer = torch.mm(rand1_to_gpu, rand2_to_gpu.T)\n",
        "answer"
      ]
    },
    {
      "cell_type": "markdown",
      "metadata": {
        "id": "LloznnwUqwaa"
      },
      "source": [
        "8. Find the maximum and minimum values of the output of 7."
      ]
    },
    {
      "cell_type": "code",
      "execution_count": 29,
      "metadata": {
        "colab": {
          "base_uri": "https://localhost:8080/"
        },
        "id": "ySXoAIT0qwab",
        "outputId": "581838fc-b105-42e5-c8ce-0f0e742f0a5d"
      },
      "outputs": [
        {
          "output_type": "stream",
          "name": "stdout",
          "text": [
            "Maximum value is 0.5617256760597229\n",
            "Minimum value is 0.3647301495075226\n"
          ]
        }
      ],
      "source": [
        "# Find max\n",
        "print(f'Maximum value is {answer.max()}')\n",
        "\n",
        "# Find min\n",
        "print(f'Minimum value is {answer.min()}')"
      ]
    },
    {
      "cell_type": "markdown",
      "metadata": {
        "id": "8qx_MZRHqwab"
      },
      "source": [
        "9. Find the maximum and minimum index values of the output of 7."
      ]
    },
    {
      "cell_type": "code",
      "execution_count": 30,
      "metadata": {
        "colab": {
          "base_uri": "https://localhost:8080/"
        },
        "id": "EX_mZQiyqwac",
        "outputId": "44d54888-3e4f-45e6-ce66-4b023979848e"
      },
      "outputs": [
        {
          "output_type": "stream",
          "name": "stdout",
          "text": [
            "Index where the max value occurs is 3\n",
            "Index where the min value occurs is 0\n"
          ]
        }
      ],
      "source": [
        "# Find arg max\n",
        "print(f'Index where the max value occurs is {answer.argmax()}')\n",
        "\n",
        "# Find arg min\n",
        "print(f'Index where the min value occurs is {answer.argmin()}')"
      ]
    },
    {
      "cell_type": "markdown",
      "metadata": {
        "id": "r_ePr4Dkqwae"
      },
      "source": [
        "10. Make a random tensor with shape (1, 1, 1, 10) and then create a new tensor with all the 1 dimensions removed to be left with a tensor of shape (10). Set the seed to 7 when you create it and print out the first tensor and it's shape as well as the second tensor and it's shape.\n",
        "\n",
        "The output should look like:\n",
        "\n",
        "tensor([[[[0.5349, 0.1988, 0.6592, 0.6569, 0.2328, 0.4251, 0.2071, 0.6297,\n",
        "           0.3653, 0.8513]]]]) torch.Size([1, 1, 1, 10])\n",
        "tensor([0.5349, 0.1988, 0.6592, 0.6569, 0.2328, 0.4251, 0.2071, 0.6297, 0.3653,\n",
        "        0.8513]) torch.Size([10])\n",
        "        "
      ]
    },
    {
      "cell_type": "code",
      "execution_count": null,
      "metadata": {
        "id": "Q98-h7WGqwae"
      },
      "outputs": [],
      "source": [
        "# Set seed\n",
        "\n",
        "\n",
        "# Create random tensor\n",
        "\n",
        "\n",
        "# Remove single dimensions\n",
        "\n",
        "\n",
        "# Print out tensors and their shapes\n"
      ]
    }
  ],
  "metadata": {
    "language_info": {
      "name": "python"
    },
    "colab": {
      "provenance": [],
      "gpuType": "T4"
    },
    "accelerator": "GPU",
    "kernelspec": {
      "name": "python3",
      "display_name": "Python 3"
    }
  },
  "nbformat": 4,
  "nbformat_minor": 0
}